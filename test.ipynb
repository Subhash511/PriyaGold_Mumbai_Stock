{
 "cells": [
  {
   "cell_type": "code",
   "execution_count": 45,
   "id": "6cc4f694",
   "metadata": {},
   "outputs": [],
   "source": [
    "import pandas as pd\n",
    "import numpy as np\n",
    "import json"
   ]
  },
  {
   "cell_type": "code",
   "execution_count": 46,
   "id": "eb26d5b0",
   "metadata": {},
   "outputs": [
    {
     "name": "stderr",
     "output_type": "stream",
     "text": [
      "c:\\Users\\pc\\AppData\\Local\\Programs\\Python\\Python313\\Lib\\site-packages\\openpyxl\\worksheet\\_reader.py:329: UserWarning: Data Validation extension is not supported and will be removed\n",
      "  warn(msg)\n",
      "c:\\Users\\pc\\AppData\\Local\\Programs\\Python\\Python313\\Lib\\site-packages\\openpyxl\\worksheet\\_reader.py:329: UserWarning: Data Validation extension is not supported and will be removed\n",
      "  warn(msg)\n"
     ]
    }
   ],
   "source": [
    "bis = pd.read_excel('Data/MH - DB Commitment.xlsm',sheet_name='Biscuit',skiprows=3)\n",
    "conf = pd.read_excel('Data/MH - DB Commitment.xlsm',sheet_name='Juice',skiprows=3)"
   ]
  },
  {
   "cell_type": "code",
   "execution_count": 47,
   "id": "1a821fcc",
   "metadata": {},
   "outputs": [],
   "source": [
    "item = pd.concat([bis[['Sr. No.','Category', 'ITEM']],conf[['Sr. No.','Category', 'ITEM']]])"
   ]
  },
  {
   "cell_type": "code",
   "execution_count": 48,
   "id": "a73be53e",
   "metadata": {},
   "outputs": [],
   "source": [
    "item.dropna(inplace=True)\n",
    "item['ITEM'] = item['ITEM'].str.replace(r'\\n', ' ', regex=True).str.strip()\n",
    "item['Category'] = item['Category'].str.replace(r'\\n', ' ', regex=True).str.strip()"
   ]
  },
  {
   "cell_type": "code",
   "execution_count": null,
   "id": "b45ab27e",
   "metadata": {},
   "outputs": [],
   "source": [
    "item['Sr. No.'] = item['Sr. No.'].astype('Int64')\n",
    "item.rename(columns={'Sr. No.':'Sr_No'},inplace=True)"
   ]
  },
  {
   "cell_type": "code",
   "execution_count": 50,
   "id": "81aa746a",
   "metadata": {},
   "outputs": [],
   "source": [
    "item.reset_index(inplace=True)"
   ]
  },
  {
   "cell_type": "code",
   "execution_count": 51,
   "id": "41d061e0",
   "metadata": {},
   "outputs": [
    {
     "name": "stdout",
     "output_type": "stream",
     "text": [
      "<class 'pandas.core.frame.DataFrame'>\n",
      "RangeIndex: 100 entries, 0 to 99\n",
      "Data columns (total 4 columns):\n",
      " #   Column    Non-Null Count  Dtype \n",
      "---  ------    --------------  ----- \n",
      " 0   index     100 non-null    int64 \n",
      " 1   Sr. No.   100 non-null    Int64 \n",
      " 2   Category  100 non-null    object\n",
      " 3   ITEM      100 non-null    object\n",
      "dtypes: Int64(1), int64(1), object(2)\n",
      "memory usage: 3.4+ KB\n"
     ]
    }
   ],
   "source": [
    "item.info()"
   ]
  },
  {
   "cell_type": "code",
   "execution_count": 55,
   "id": "74a7e276",
   "metadata": {},
   "outputs": [],
   "source": [
    "item= item[['Sr. No.','Category','ITEM']]"
   ]
  },
  {
   "cell_type": "code",
   "execution_count": 56,
   "id": "9f895b77",
   "metadata": {},
   "outputs": [],
   "source": [
    "item.to_json('Data/sku_master.json')"
   ]
  },
  {
   "cell_type": "code",
   "execution_count": 21,
   "id": "fe720221",
   "metadata": {},
   "outputs": [],
   "source": [
    "item.to_excel('Data/item.xlsx')"
   ]
  },
  {
   "cell_type": "code",
   "execution_count": 57,
   "id": "6ed96b80",
   "metadata": {},
   "outputs": [],
   "source": [
    "df = pd.read_json('Data/sku_master.json')"
   ]
  },
  {
   "cell_type": "code",
   "execution_count": 59,
   "id": "9447d82f",
   "metadata": {},
   "outputs": [
    {
     "data": {
      "text/plain": [
       "Index(['Sr. No.', 'Category', 'ITEM'], dtype='object')"
      ]
     },
     "execution_count": 59,
     "metadata": {},
     "output_type": "execute_result"
    }
   ],
   "source": [
    "df.columns"
   ]
  },
  {
   "cell_type": "code",
   "execution_count": null,
   "id": "4f0f3ba2",
   "metadata": {},
   "outputs": [],
   "source": []
  }
 ],
 "metadata": {
  "kernelspec": {
   "display_name": "Python 3",
   "language": "python",
   "name": "python3"
  },
  "language_info": {
   "codemirror_mode": {
    "name": "ipython",
    "version": 3
   },
   "file_extension": ".py",
   "mimetype": "text/x-python",
   "name": "python",
   "nbconvert_exporter": "python",
   "pygments_lexer": "ipython3",
   "version": "3.13.3"
  }
 },
 "nbformat": 4,
 "nbformat_minor": 5
}
