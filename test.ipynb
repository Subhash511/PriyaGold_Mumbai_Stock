{
 "cells": [
  {
   "cell_type": "code",
   "execution_count": null,
   "id": "6cc4f694",
   "metadata": {},
   "outputs": [],
   "source": [
    "import pandas as pd\n",
    "import numpy as np\n",
    "import json"
   ]
  },
  {
   "cell_type": "code",
   "execution_count": null,
   "id": "eb26d5b0",
   "metadata": {},
   "outputs": [],
   "source": [
    "bis = pd.read_excel('Data/MH - DB Commitment.xlsm',sheet_name='Biscuit',skiprows=3)\n",
    "conf = pd.read_excel('Data/MH - DB Commitment.xlsm',sheet_name='Juice',skiprows=3)"
   ]
  },
  {
   "cell_type": "code",
   "execution_count": null,
   "id": "1a821fcc",
   "metadata": {},
   "outputs": [],
   "source": [
    "item = pd.concat([bis[['Sr. No.','Category', 'ITEM']],conf[['Sr. No.','Category', 'ITEM']]])"
   ]
  },
  {
   "cell_type": "code",
   "execution_count": null,
   "id": "a73be53e",
   "metadata": {},
   "outputs": [],
   "source": [
    "item.dropna(inplace=True)\n",
    "item['ITEM'] = item['ITEM'].str.replace(r'\\n', ' ', regex=True).str.strip()\n",
    "item['Category'] = item['Category'].str.replace(r'\\n', ' ', regex=True).str.strip()"
   ]
  },
  {
   "cell_type": "code",
   "execution_count": null,
   "id": "b45ab27e",
   "metadata": {},
   "outputs": [],
   "source": [
    "item['Sr. No.'] = item['Sr. No.'].astype('Int64')\n",
    "item.rename(columns={'Sr. No.':'Sr_No'},inplace=True)"
   ]
  },
  {
   "cell_type": "code",
   "execution_count": null,
   "id": "81aa746a",
   "metadata": {},
   "outputs": [],
   "source": [
    "item.reset_index(inplace=True)"
   ]
  },
  {
   "cell_type": "code",
   "execution_count": null,
   "id": "41d061e0",
   "metadata": {},
   "outputs": [],
   "source": [
    "item.info()"
   ]
  },
  {
   "cell_type": "code",
   "execution_count": null,
   "id": "74a7e276",
   "metadata": {},
   "outputs": [],
   "source": [
    "item= item[['Sr. No.','Category','ITEM']]"
   ]
  },
  {
   "cell_type": "code",
   "execution_count": null,
   "id": "9f895b77",
   "metadata": {},
   "outputs": [],
   "source": [
    "item.to_json('Data/sku_master.json')"
   ]
  },
  {
   "cell_type": "code",
   "execution_count": null,
   "id": "fe720221",
   "metadata": {},
   "outputs": [],
   "source": [
    "item.to_excel('Data/item.xlsx')"
   ]
  },
  {
   "cell_type": "code",
   "execution_count": null,
   "id": "6ed96b80",
   "metadata": {},
   "outputs": [],
   "source": [
    "df = pd.read_json('Data/sku_master.json')"
   ]
  },
  {
   "cell_type": "code",
   "execution_count": null,
   "id": "9447d82f",
   "metadata": {},
   "outputs": [],
   "source": [
    "df.columns"
   ]
  },
  {
   "cell_type": "code",
   "execution_count": null,
   "id": "4f0f3ba2",
   "metadata": {},
   "outputs": [],
   "source": [
    "df"
   ]
  },
  {
   "cell_type": "code",
   "execution_count": null,
   "id": "a292ddf9",
   "metadata": {},
   "outputs": [],
   "source": []
  }
 ],
 "metadata": {
  "kernelspec": {
   "display_name": "Python 3",
   "language": "python",
   "name": "python3"
  },
  "language_info": {
   "codemirror_mode": {
    "name": "ipython",
    "version": 3
   },
   "file_extension": ".py",
   "mimetype": "text/x-python",
   "name": "python",
   "nbconvert_exporter": "python",
   "pygments_lexer": "ipython3",
   "version": "3.13.3"
  }
 },
 "nbformat": 4,
 "nbformat_minor": 5
}
