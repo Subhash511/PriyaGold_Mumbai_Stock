{
 "cells": [
  {
   "cell_type": "code",
   "execution_count": 1,
   "id": "8d67c441",
   "metadata": {},
   "outputs": [],
   "source": [
    "import requests\n",
    "import json\n",
    "import pandas as pd"
   ]
  },
  {
   "cell_type": "code",
   "execution_count": 2,
   "id": "776ddf11",
   "metadata": {},
   "outputs": [],
   "source": [
    "df = pd.read_excel('D:/Project/PriyaGold_Stock/Data/db_master.xlsx',sheet_name='Dist_Detail_Master')"
   ]
  },
  {
   "cell_type": "code",
   "execution_count": 3,
   "id": "b67ed65e",
   "metadata": {},
   "outputs": [],
   "source": [
    "df['STATE NAME'] = df['STATE NAME'].str.title()\n",
    "df['ASM Name'] = df['ASM Name'].str.title()\n",
    "df['SS NAME'] = df['SS NAME'].str.title()\n",
    "df['Dealer Name (As Per GST)'] = df['Dealer Name (As Per GST)'].str.title()\n",
    "df['SS Name'] = df['SS NAME']+\"|\"+df['SS Code']\n",
    "df['DB Name'] = df['Dealer Name (As Per GST)']+\"|\"+df['Dist. Code']\n",
    "df1 = df.rename(columns={\n",
    "    'STATE NAME':'State',\n",
    "    'Cross Checking':'Password'\n",
    "})\n",
    "df1 = df1[['State', 'SS Name', 'DB Name', 'Password']]\n",
    "df1= df1.dropna()\n",
    "df1['Password'] = df1['Password'].astype(int)\n",
    "df1['State'] = df1['State'].astype(str)\n",
    "df1['SS Name'] = df1['SS Name'].astype(str)\n",
    "df1['DB Name'] = df1['DB Name'].astype(str)\n",
    "df1.sort_values(by=['State', 'SS Name', 'DB Name', 'Password'],inplace=True)"
   ]
  },
  {
   "cell_type": "code",
   "execution_count": 4,
   "id": "1b2f6158",
   "metadata": {},
   "outputs": [],
   "source": [
    "mumbai = df1[df1['State'].isin(['Maharashtra'])]\n",
    "# Create nested dictionary with password at DB level\n",
    "nested = {}\n",
    "\n",
    "for _, row in mumbai.iterrows():\n",
    "    state = row['State']\n",
    "    ss = row['SS Name']\n",
    "    db = row['DB Name'] # DB Name\n",
    "    pwd = row['Password']\n",
    "\n",
    "    state_dict = nested.setdefault(state, {})\n",
    "    ss_dict = state_dict.setdefault(ss, {})\n",
    "    db_dict = ss_dict.setdefault(db, {\"password\": pwd})\n",
    "\n",
    "\n",
    "# Save\n",
    "with open(\"Data/db.json\", \"w\") as f:\n",
    "    json.dump(nested, f, indent=4)"
   ]
  },
  {
   "cell_type": "code",
   "execution_count": 5,
   "id": "9ca57a32",
   "metadata": {},
   "outputs": [],
   "source": [
    "mumbai.to_excel('Data/password.xlsx',index=False)"
   ]
  },
  {
   "cell_type": "code",
   "execution_count": null,
   "id": "9a7dec1c",
   "metadata": {},
   "outputs": [],
   "source": []
  }
 ],
 "metadata": {
  "kernelspec": {
   "display_name": "Python 3",
   "language": "python",
   "name": "python3"
  },
  "language_info": {
   "codemirror_mode": {
    "name": "ipython",
    "version": 3
   },
   "file_extension": ".py",
   "mimetype": "text/x-python",
   "name": "python",
   "nbconvert_exporter": "python",
   "pygments_lexer": "ipython3",
   "version": "3.13.3"
  }
 },
 "nbformat": 4,
 "nbformat_minor": 5
}
