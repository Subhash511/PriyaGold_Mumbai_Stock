{
 "cells": [
  {
   "cell_type": "code",
   "execution_count": 1,
   "id": "1d22a2e5",
   "metadata": {},
   "outputs": [],
   "source": [
    "import pandas as pd\n",
    "import numpy as np\n",
    "import json"
   ]
  },
  {
   "cell_type": "code",
   "execution_count": 2,
   "id": "4b28b28f",
   "metadata": {},
   "outputs": [],
   "source": [
    "item = pd.read_excel('Data/itemmumbai.xlsx',sheet_name='mumbai')"
   ]
  },
  {
   "cell_type": "code",
   "execution_count": 3,
   "id": "f9def4e8",
   "metadata": {},
   "outputs": [],
   "source": [
    "item.dropna(inplace=True)\n",
    "item['ITEM'] = item['ITEM'].str.replace(r'\\n', ' ', regex=True).str.strip()\n",
    "item['Category'] = item['Category'].str.replace(r'\\n', ' ', regex=True).str.strip()"
   ]
  },
  {
   "cell_type": "code",
   "execution_count": 6,
   "id": "6b69316e",
   "metadata": {},
   "outputs": [],
   "source": [
    "item.rename(columns={'Sr. No.':'Sr_No'},inplace=True)"
   ]
  },
  {
   "cell_type": "code",
   "execution_count": 7,
   "id": "1f2f8593",
   "metadata": {},
   "outputs": [],
   "source": [
    "item.to_json('Data/sku_master.json')"
   ]
  },
  {
   "cell_type": "code",
   "execution_count": null,
   "id": "4998716d",
   "metadata": {},
   "outputs": [],
   "source": []
  }
 ],
 "metadata": {
  "kernelspec": {
   "display_name": "Python 3",
   "language": "python",
   "name": "python3"
  },
  "language_info": {
   "codemirror_mode": {
    "name": "ipython",
    "version": 3
   },
   "file_extension": ".py",
   "mimetype": "text/x-python",
   "name": "python",
   "nbconvert_exporter": "python",
   "pygments_lexer": "ipython3",
   "version": "3.13.3"
  }
 },
 "nbformat": 4,
 "nbformat_minor": 5
}
