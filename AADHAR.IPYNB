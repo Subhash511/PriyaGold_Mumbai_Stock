{
 "cells": [
  {
   "cell_type": "code",
   "execution_count": null,
   "id": "cbbb35c0",
   "metadata": {},
   "outputs": [],
   "source": [
    "import PyPDF2"
   ]
  },
  {
   "cell_type": "code",
   "execution_count": null,
   "id": "680dc791",
   "metadata": {},
   "outputs": [],
   "source": [
    "\n",
    "\n",
    "# Path to the locked PDF file\n",
    "pdf_path = 'C:/Users/pc/Downloads/EAadhaar_2906032060519820211230133043_2406202591815.pdf'  # replace with your file name\n",
    "\n",
    "# Try all passwords from \"JASO1940\" to \"JASO1980\"\n",
    "for year in range(1940, 1981):\n",
    "    password = f'YASH{year}'\n",
    "    try:\n",
    "        with open(pdf_path, 'rb') as file:\n",
    "            reader = PyPDF2.PdfReader(file)\n",
    "            if reader.is_encrypted:\n",
    "                if reader.decrypt(password):\n",
    "                    print(f\"[✅] Password found: {password}\")\n",
    "                    # Save the decrypted PDF\n",
    "                    writer = PyPDF2.PdfWriter()\n",
    "                    for page in reader.pages:\n",
    "                        writer.add_page(page)\n",
    "\n",
    "                    with open('unlocked.pdf', 'wb') as unlocked_file:\n",
    "                        writer.write(unlocked_file)\n",
    "                    print(\"[💾] Unlocked PDF saved as 'unlocked.pdf'\")\n",
    "                    break\n",
    "                else:\n",
    "                    print(f\"[❌] Tried: {password}\")\n",
    "            else:\n",
    "                print(\"PDF is not encrypted.\")\n",
    "                break\n",
    "    except Exception as e:\n",
    "        print(f\"Error with password {password}: {e}\")\n"
   ]
  },
  {
   "cell_type": "code",
   "execution_count": null,
   "id": "6e12293c",
   "metadata": {},
   "outputs": [],
   "source": []
  }
 ],
 "metadata": {
  "kernelspec": {
   "display_name": "Python 3",
   "language": "python",
   "name": "python3"
  },
  "language_info": {
   "codemirror_mode": {
    "name": "ipython",
    "version": 3
   },
   "file_extension": ".py",
   "mimetype": "text/x-python",
   "name": "python",
   "nbconvert_exporter": "python",
   "pygments_lexer": "ipython3",
   "version": "3.13.3"
  }
 },
 "nbformat": 4,
 "nbformat_minor": 5
}
